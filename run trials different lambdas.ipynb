{
 "cells": [
  {
   "cell_type": "code",
   "execution_count": 1,
   "metadata": {},
   "outputs": [],
   "source": [
    "import numpy as np\n",
    "import torch\n",
    "from torch import nn\n",
    "from scipy import sparse\n",
    "import time\n",
    "import matplotlib.pyplot as plt\n",
    "import scipy.io as sio\n",
    "from scipy.stats import zscore"
   ]
  },
  {
   "cell_type": "code",
   "execution_count": 2,
   "metadata": {},
   "outputs": [],
   "source": [
    "%load_ext autoreload\n",
    "%autoreload 2"
   ]
  },
  {
   "cell_type": "code",
   "execution_count": 3,
   "metadata": {},
   "outputs": [],
   "source": [
    "import env"
   ]
  },
  {
   "cell_type": "code",
   "execution_count": 4,
   "metadata": {},
   "outputs": [],
   "source": [
    "Ninf_train = 50\n",
    "N_train = 2000\n",
    "T_train = 125\n",
    "lam0_train = 10\n",
    "\n",
    "Ninf_test = 500\n",
    "N_test = 20000\n",
    "T_test= 150\n",
    "lam0_test = 100"
   ]
  },
  {
   "cell_type": "code",
   "execution_count": 7,
   "metadata": {},
   "outputs": [],
   "source": [
    "lams = [100, 200, 300, 400, 500, 1000, 5000]"
   ]
  },
  {
   "cell_type": "code",
   "execution_count": 13,
   "metadata": {},
   "outputs": [],
   "source": [
    "d = sio.loadmat('least_squares.mat')\n",
    "a = d['a'].flatten()"
   ]
  },
  {
   "cell_type": "code",
   "execution_count": 14,
   "metadata": {},
   "outputs": [
    {
     "name": "stdout",
     "output_type": "stream",
     "text": [
      "0\n",
      "100\n",
      "200\n",
      "300\n",
      "400\n",
      "500\n",
      "600\n",
      "700\n",
      "800\n",
      "900\n",
      "2644.6229016780853\n",
      "200 32.258428571428574\n",
      "0\n",
      "100\n",
      "200\n",
      "300\n",
      "400\n",
      "500\n",
      "600\n",
      "700\n",
      "800\n",
      "900\n",
      "2634.0491840839386\n",
      "300 42.38742857142857\n",
      "0\n",
      "100\n",
      "200\n",
      "300\n",
      "400\n",
      "500\n",
      "600\n",
      "700\n",
      "800\n",
      "900\n",
      "2689.771470308304\n",
      "400 50.783142857142856\n",
      "0\n",
      "100\n",
      "200\n",
      "300\n",
      "400\n",
      "500\n",
      "600\n",
      "700\n",
      "800\n",
      "900\n",
      "2550.3156406879425\n",
      "500 58.177285714285716\n",
      "0\n",
      "100\n",
      "200\n",
      "300\n",
      "400\n",
      "500\n",
      "600\n",
      "700\n",
      "800\n",
      "900\n",
      "2283.6683893203735\n",
      "1000 63.555571428571426\n",
      "0\n",
      "100\n",
      "200\n",
      "300\n",
      "400\n",
      "500\n",
      "600\n",
      "700\n",
      "800\n",
      "900\n",
      "2273.345005273819\n",
      "5000 67.57185714285714\n"
     ]
    }
   ],
   "source": [
    "numTrials = 1000\n",
    "deaths = np.zeros((len(lams), numTrials))\n",
    "deaths[0] = d['deaths']\n",
    "\n",
    "for i, lam in enumerate(lams):\n",
    "    if i == 0:\n",
    "        continue\n",
    "    t0 = time.time()\n",
    "    for trial in range(numTrials):\n",
    "        if trial % 100 == 0:\n",
    "            print(trial)\n",
    "        deaths[i, trial] = env.trialEnv(a, Ninf_test, N_test, T_test, lam)\n",
    "    testtime = time.time() - t0\n",
    "    print(testtime)\n",
    "    print(lam, np.mean(deaths))"
   ]
  },
  {
   "cell_type": "code",
   "execution_count": 15,
   "metadata": {},
   "outputs": [],
   "source": [
    "drandom = sio.loadmat('randomvacc.mat')"
   ]
  },
  {
   "cell_type": "code",
   "execution_count": 16,
   "metadata": {},
   "outputs": [],
   "source": [
    "deathsrandom = np.zeros((len(lams), numTrials))"
   ]
  },
  {
   "cell_type": "code",
   "execution_count": 17,
   "metadata": {},
   "outputs": [
    {
     "name": "stdout",
     "output_type": "stream",
     "text": [
      "0\n",
      "100\n",
      "200\n",
      "300\n",
      "400\n",
      "500\n",
      "600\n",
      "700\n",
      "800\n",
      "900\n",
      "2200.7186081409454\n",
      "200 168.57\n",
      "0\n",
      "100\n",
      "200\n",
      "300\n",
      "400\n",
      "500\n",
      "600\n",
      "700\n",
      "800\n",
      "900\n",
      "2208.060700416565\n",
      "300 134.944\n",
      "0\n",
      "100\n",
      "200\n",
      "300\n",
      "400\n",
      "500\n",
      "600\n",
      "700\n",
      "800\n",
      "900\n",
      "2155.661907672882\n",
      "400 110.027\n",
      "0\n",
      "100\n",
      "200\n",
      "300\n",
      "400\n",
      "500\n",
      "600\n",
      "700\n",
      "800\n",
      "900\n",
      "2145.9728467464447\n",
      "500 92.961\n",
      "0\n",
      "100\n",
      "200\n",
      "300\n",
      "400\n",
      "500\n",
      "600\n",
      "700\n",
      "800\n",
      "900\n",
      "2130.521109342575\n",
      "1000 56.454\n",
      "0\n",
      "100\n",
      "200\n",
      "300\n",
      "400\n",
      "500\n",
      "600\n",
      "700\n",
      "800\n",
      "900\n",
      "2091.567728996277\n",
      "5000 31.231\n"
     ]
    }
   ],
   "source": [
    "numTrials = 1000\n",
    "deathsrandom[0] = drandom['deaths']\n",
    "\n",
    "for i, lam in enumerate(lams):\n",
    "    if i == 0:\n",
    "        continue\n",
    "    t0 = time.time()\n",
    "    for trial in range(numTrials):\n",
    "        if trial % 100 == 0:\n",
    "            print(trial)\n",
    "        deathsrandom[i, trial] = env.trialEnv(None, Ninf_test, N_test, T_test, lam)\n",
    "    testtime = time.time() - t0\n",
    "    print(testtime)\n",
    "    print(lam, np.mean(deathsrandom[i]))"
   ]
  },
  {
   "cell_type": "code",
   "execution_count": null,
   "metadata": {},
   "outputs": [],
   "source": []
  },
  {
   "cell_type": "code",
   "execution_count": 18,
   "metadata": {},
   "outputs": [],
   "source": [
    "d2 = {}\n",
    "d2['deaths'] = deaths\n",
    "d2['deathsrandom'] = deathsrandom\n",
    "d2['lams'] = lams"
   ]
  },
  {
   "cell_type": "code",
   "execution_count": 19,
   "metadata": {},
   "outputs": [
    {
     "data": {
      "text/plain": [
       "array([134.213,  91.596,  70.903,  58.77 ,  51.759,  37.648,  28.114])"
      ]
     },
     "execution_count": 19,
     "metadata": {},
     "output_type": "execute_result"
    }
   ],
   "source": [
    "np.mean(deaths, axis=1)"
   ]
  },
  {
   "cell_type": "code",
   "execution_count": 20,
   "metadata": {},
   "outputs": [
    {
     "data": {
      "text/plain": [
       "array([211.778, 168.57 , 134.944, 110.027,  92.961,  56.454,  31.231])"
      ]
     },
     "execution_count": 20,
     "metadata": {},
     "output_type": "execute_result"
    }
   ],
   "source": [
    "np.mean(deathsrandom, axis=1)"
   ]
  },
  {
   "cell_type": "code",
   "execution_count": 31,
   "metadata": {},
   "outputs": [],
   "source": [
    "plt.rcParams.update({'font.size': 24})"
   ]
  },
  {
   "cell_type": "code",
   "execution_count": 39,
   "metadata": {},
   "outputs": [
    {
     "data": {
      "image/png": "[encoded data removed]",
      "text/plain": [
       "<Figure size 1080x576 with 1 Axes>"
      ]
     },
     "metadata": {
      "needs_background": "light"
     },
     "output_type": "display_data"
    }
   ],
   "source": [
    "plt.figure(figsize=(15,8))\n",
    "plt.plot(20000/np.array(lams), (np.mean(deathsrandom, axis=1) - np.mean(deaths, axis=1))/20000*100, '.-', ms=8)\n",
    "plt.ylabel('average reduction of deaths\\nvs. random vaccination\\n(% of population)')\n",
    "plt.xlabel('$N / \\lambda$ = days needed to vaccinate everyone')\n",
    "plt.grid()"
   ]
  },
  {
   "cell_type": "code",
   "execution_count": null,
   "metadata": {},
   "outputs": [],
   "source": []
  }
 ],
 "metadata": {
  "kernelspec": {
   "display_name": "Python 3",
   "language": "python",
   "name": "python3"
  },
  "language_info": {
   "codemirror_mode": {
    "name": "ipython",
    "version": 3
   },
   "file_extension": ".py",
   "mimetype": "text/x-python",
   "name": "python",
   "nbconvert_exporter": "python",
   "pygments_lexer": "ipython3",
   "version": "3.7.4"
  }
 },
 "nbformat": 4,
 "nbformat_minor": 4
}
