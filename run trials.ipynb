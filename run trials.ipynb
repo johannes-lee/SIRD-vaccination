{
 "cells": [
  {
   "cell_type": "code",
   "execution_count": 1,
   "metadata": {},
   "outputs": [],
   "source": [
    "import numpy as np\n",
    "import torch\n",
    "from torch import nn\n",
    "from scipy import sparse\n",
    "import time\n",
    "import matplotlib.pyplot as plt\n",
    "import scipy.io as sio\n",
    "from scipy.stats import zscore"
   ]
  },
  {
   "cell_type": "code",
   "execution_count": 3,
   "metadata": {},
   "outputs": [],
   "source": [
    "import env"
   ]
  },
  {
   "cell_type": "code",
   "execution_count": 4,
   "metadata": {},
   "outputs": [],
   "source": [
    "Ninf_train = 50\n",
    "N_train = 2000\n",
    "T_train = 125\n",
    "lam0_train = 10\n",
    "\n",
    "Ninf_test = 500\n",
    "N_test = 20000\n",
    "T_test= 150\n",
    "lam0_test = 100"
   ]
  },
  {
   "cell_type": "code",
   "execution_count": 5,
   "metadata": {},
   "outputs": [],
   "source": [
    "mu = np.zeros(11)\n",
    "sig = np.eye(11)\n",
    "precision = np.eye(11)"
   ]
  },
  {
   "cell_type": "code",
   "execution_count": 6,
   "metadata": {},
   "outputs": [
    {
     "name": "stdout",
     "output_type": "stream",
     "text": [
      "0\n",
      "100\n",
      "200\n",
      "300\n",
      "finished:  377\n",
      "98.20828652381897\n"
     ]
    }
   ],
   "source": [
    "numTrials = 10000\n",
    "\n",
    "t0 = time.time()\n",
    "baseline = -15\n",
    "eps = 0.3\n",
    "alpha = 0.001\n",
    "\n",
    "dethist = np.zeros(numTrials)\n",
    "acthist = np.zeros((numTrials, 11))\n",
    "muhist = np.zeros((numTrials, 11))\n",
    "rewardhist = np.zeros(numTrials)\n",
    "for trial in range(numTrials):\n",
    "    if trial % 100 == 0:\n",
    "        print(trial)\n",
    "    u = np.random.random()\n",
    "    if u < eps:\n",
    "        act = np.random.randn(11)\n",
    "    else:\n",
    "        act = np.random.multivariate_normal(mu, sig)\n",
    "    reward = -env.trialEnv(act, Ninf_train, N_train, T_train, lam0_train)\n",
    "    rewardhist[trial] = reward\n",
    "    \n",
    "    acthist[trial] = act\n",
    "    muhist[trial] = mu\n",
    "    sigdet = np.linalg.det(sig)\n",
    "    dethist[trial] = sigdet\n",
    "    #print(sigdet)\n",
    "    \n",
    "    siginv = np.linalg.inv(sig)\n",
    "    \n",
    "    alpha = 1/(1000 + trial)\n",
    "    mu += alpha*(reward - baseline)*(siginv@(act - mu))\n",
    "    amu = (act - mu).reshape((-1, 1))\n",
    "    sigprime = sig + sigdet*alpha*(reward - baseline)*(-0.5*siginv + 0.5*siginv@amu@amu.T@siginv)\n",
    "    if np.linalg.det(sigprime) < 1e-12:\n",
    "        print('finished: ', trial)\n",
    "        break\n",
    "    else:\n",
    "        sig = sigprime\n",
    "traintime = time.time() - t0\n",
    "print(traintime)\n",
    "trainiters = trial"
   ]
  },
  {
   "cell_type": "code",
   "execution_count": 10,
   "metadata": {},
   "outputs": [
    {
     "name": "stdout",
     "output_type": "stream",
     "text": [
      "11\n"
     ]
    }
   ],
   "source": [
    "variables = ['rho', 'sigma', 'mu', 'kappa', 'chi', 'homesize', 'Frho', 'Fsigma', 'Fmu', 'Fkappa', 'Fchi']\n",
    "print(len(variables))"
   ]
  },
  {
   "cell_type": "code",
   "execution_count": 8,
   "metadata": {},
   "outputs": [
    {
     "data": {
      "image/png": "[encoded data removed]",
      "text/plain": [
       "<Figure size 432x288 with 1 Axes>"
      ]
     },
     "metadata": {
      "needs_background": "light"
     },
     "output_type": "display_data"
    }
   ],
   "source": [
    "mu = muhist[trial]\n",
    "plt.plot(mu / np.linalg.norm(mu))\n",
    "plt.xticks(np.arange(11), variables, rotation=-90)\n",
    "plt.grid()"
   ]
  },
  {
   "cell_type": "code",
   "execution_count": 9,
   "metadata": {
    "scrolled": true
   },
   "outputs": [
    {
     "name": "stdout",
     "output_type": "stream",
     "text": [
      "0\n",
      "100\n",
      "200\n",
      "300\n",
      "400\n",
      "500\n",
      "600\n",
      "700\n",
      "800\n",
      "900\n",
      "2326.0631940364838\n",
      "138.499\n"
     ]
    }
   ],
   "source": [
    "numTrials = 1000\n",
    "deaths = np.zeros(numTrials)\n",
    "\n",
    "t0 = time.time()\n",
    "for trial in range(numTrials):\n",
    "    if trial % 100 == 0:\n",
    "        print(trial)\n",
    "    deaths[trial] = env.trialEnv(mu, Ninf_test, N_test, T_test, lam0_test)\n",
    "testtime = time.time() - t0\n",
    "print(testtime)\n",
    "print(np.mean(deaths))"
   ]
  },
  {
   "cell_type": "code",
   "execution_count": 10,
   "metadata": {},
   "outputs": [],
   "source": [
    "d1 = {}\n",
    "d1['dethist'] = dethist\n",
    "d1['acthist'] = acthist\n",
    "d1['muhist'] = muhist\n",
    "d1['traintime'] = traintime\n",
    "d1['deaths'] = deaths\n",
    "d1['iters'] = trainiters\n",
    "d1['rewardhist'] = rewardhist\n",
    "d1['mu'] = mu\n",
    "d1['testtime'] = testtime\n",
    "sio.savemat('trials_linear.mat', d1)"
   ]
  },
  {
   "cell_type": "code",
   "execution_count": null,
   "metadata": {},
   "outputs": [],
   "source": []
  },
  {
   "cell_type": "code",
   "execution_count": 5,
   "metadata": {},
   "outputs": [],
   "source": [
    "class multiLayer(nn.Module):\n",
    "    def __init__(self, inputdim, hdims = None, outputdim=1):\n",
    "        super(multiLayer, self).__init__()\n",
    "        self.inputdim = inputdim\n",
    "        hdims = list(hdims)\n",
    "        self.hdims = hdims\n",
    "        self.outputdim = outputdim\n",
    "        dims = [inputdim]\n",
    "        if len(hdims) > 0:\n",
    "            dims = dims + hdims\n",
    "        dims.append(outputdim)\n",
    "        \n",
    "        self.fcs = []\n",
    "        for k in range(len(dims) - 1):\n",
    "            self.fcs.append(nn.Linear(dims[k], dims[k + 1]))\n",
    "        self.activation = nn.LeakyReLU(negative_slope=0.1)\n",
    "        self.paramlength = len(self.getparams())\n",
    "    def forward(self, x):\n",
    "        out = x\n",
    "        for k in range(len(self.fcs) - 1):\n",
    "            #print(k)\n",
    "            layer = self.fcs[k]\n",
    "            out = layer(out)\n",
    "            out = self.activation(out)\n",
    "        out = self.fcs[-1](out)\n",
    "        return out\n",
    "    def getparams(self):\n",
    "        ws = np.zeros(0)\n",
    "        with torch.no_grad():\n",
    "            for k in range(len(self.fcs)):\n",
    "                w = self.fcs[k].weight.data\n",
    "                ws = np.hstack((ws, w.flatten()))\n",
    "            for k in range(len(self.fcs)):\n",
    "                b = self.fcs[k].bias.data\n",
    "                ws = np.hstack((ws, b.flatten()))\n",
    "        return ws\n",
    "    def setparams(self, weights):\n",
    "        shapes = []\n",
    "        bshapes = []\n",
    "        with torch.no_grad():\n",
    "            idx = 0\n",
    "            for k in range(len(self.fcs)):\n",
    "                shapes.append(self.fcs[k].weight.data.shape)\n",
    "                bshapes.append(self.fcs[k].bias.data.shape)\n",
    "            for k in range(len(self.fcs)):\n",
    "                shape = shapes[k]\n",
    "                L = np.prod(shape)\n",
    "                w = weights[idx:idx+L].reshape(shape)\n",
    "                self.fcs[k].weight.data.copy_(torch.FloatTensor(w))\n",
    "                idx += L\n",
    "            for k in range(len(self.fcs)):\n",
    "                shape = bshapes[k]\n",
    "                L = np.prod(shape)\n",
    "                b = weights[idx:idx+L]\n",
    "                self.fcs[k].bias.data.copy_(torch.FloatTensor(b))\n",
    "                idx += L\n",
    "        return"
   ]
  },
  {
   "cell_type": "code",
   "execution_count": 12,
   "metadata": {},
   "outputs": [],
   "source": [
    "hdims = [5]"
   ]
  },
  {
   "cell_type": "code",
   "execution_count": 13,
   "metadata": {},
   "outputs": [
    {
     "name": "stdout",
     "output_type": "stream",
     "text": [
      "66\n"
     ]
    }
   ],
   "source": [
    "model = multiLayer(11, hdims, 1)\n",
    "dim = model.paramlength\n",
    "print(dim)\n",
    "mu = np.zeros(dim)\n",
    "sig = np.eye(dim)\n",
    "precision = np.eye(dim)"
   ]
  },
  {
   "cell_type": "code",
   "execution_count": 14,
   "metadata": {},
   "outputs": [
    {
     "name": "stdout",
     "output_type": "stream",
     "text": [
      "0\n",
      "100\n",
      "200\n",
      "finished:  276\n"
     ]
    }
   ],
   "source": [
    "numTrials = 10000\n",
    "\n",
    "t0 = time.time()\n",
    "baseline = -15\n",
    "eps = 0.3\n",
    "alpha = 0.001\n",
    "\n",
    "dethist = np.zeros(numTrials)\n",
    "acthist = np.zeros((numTrials, dim))\n",
    "muhist = np.zeros((numTrials, dim))\n",
    "rewardhist = np.zeros((numTrials))\n",
    "for trial in range(numTrials):\n",
    "    if trial % 100 == 0:\n",
    "        print(trial)\n",
    "    #eps = 10/(10+trial)\n",
    "    u = np.random.random()\n",
    "    if u < eps:\n",
    "        act = np.random.randn(dim)\n",
    "    else:\n",
    "        act = np.random.multivariate_normal(mu, sig)\n",
    "    model = multiLayer(11, hdims, 1)\n",
    "    model.setparams(act)\n",
    "    reward = -env.trialEnv(model, Ninf_train, N_train, T_train, lam0_train)\n",
    "    rewardhist[trial] = reward\n",
    "    \n",
    "    acthist[trial] = act\n",
    "    muhist[trial] = mu\n",
    "    sigdet = np.linalg.det(sig)\n",
    "    dethist[trial] = sigdet\n",
    "    #print(sigdet)\n",
    "    \n",
    "    siginv = np.linalg.inv(sig)\n",
    "    \n",
    "    alpha = 1/(1000 + trial)\n",
    "    mu += alpha*(reward - baseline)*(siginv@(act - mu))\n",
    "    amu = (act - mu).reshape((-1, 1))\n",
    "    sigprime = sig + sigdet*alpha*(reward - baseline)*(-0.5*siginv + 0.5*siginv@amu@amu.T@siginv)\n",
    "    if np.linalg.det(sigprime) < 1e-12:\n",
    "        print('finished: ', trial)\n",
    "        break\n",
    "    else:\n",
    "        sig = sigprime\n",
    "traintime = time.time() - t0\n",
    "trainiters = trial"
   ]
  },
  {
   "cell_type": "code",
   "execution_count": 15,
   "metadata": {},
   "outputs": [
    {
     "name": "stdout",
     "output_type": "stream",
     "text": [
      "[-0.01415301 -0.06008325  0.22820497 -0.00883989 -0.10800197  0.06971574\n",
      " -0.00525483 -0.00732214  0.17696524  0.2857392  -0.0451375  -0.29921692\n",
      "  0.11836879 -0.03322969 -0.07400459 -0.13381018  0.07176934 -0.05188675\n",
      "  0.05051993  0.0076399  -0.02701508  0.01088821 -0.07831655 -0.22854915\n",
      "  0.13670763 -0.22623837  0.24622007  0.08319167  0.27311099 -0.10574846\n",
      " -0.06934419 -0.2098367   0.01142175  0.13591387  0.11778407 -0.02765328\n",
      " -0.19302465  0.11275604 -0.06398864 -0.18494599  0.09297936 -0.27171297\n",
      "  0.1608107   0.01424631  0.01323393 -0.1287213   0.25530666  0.39651095\n",
      " -0.08744232  0.04626657  0.28854239 -0.08642901  0.20093522 -0.25352052\n",
      " -0.27593173  0.15750829  0.33438427 -0.13560087  0.23848557  0.28383631\n",
      "  0.0946665   0.29207263 -0.05790897  0.05423922  0.0664899   0.06651945]\n"
     ]
    }
   ],
   "source": [
    "model = multiLayer(11, hdims, 1)\n",
    "mu = muhist[trial]\n",
    "model.setparams(mu)\n",
    "print(muhist[trial])"
   ]
  },
  {
   "cell_type": "code",
   "execution_count": 16,
   "metadata": {},
   "outputs": [
    {
     "name": "stdout",
     "output_type": "stream",
     "text": [
      "0\n",
      "100\n",
      "200\n",
      "300\n",
      "400\n",
      "500\n",
      "600\n",
      "700\n",
      "800\n",
      "900\n",
      "2490.8698937892914\n",
      "155.045\n"
     ]
    }
   ],
   "source": [
    "numTrials = 1000\n",
    "deaths = np.zeros(numTrials)\n",
    "\n",
    "t0 = time.time()\n",
    "for trial in range(numTrials):\n",
    "    if trial % 100 == 0:\n",
    "        print(trial)\n",
    "    deaths[trial] = env.trialEnv(model, Ninf_test, N_test, T_test, lam0_test)\n",
    "testtime = time.time() - t0\n",
    "print(testtime)\n",
    "print(np.mean(deaths))"
   ]
  },
  {
   "cell_type": "code",
   "execution_count": 17,
   "metadata": {},
   "outputs": [],
   "source": [
    "d2 = {}\n",
    "d2['dethist'] = dethist\n",
    "d2['acthist'] = acthist\n",
    "d2['muhist'] = muhist\n",
    "d2['traintime'] = traintime\n",
    "d2['deaths'] = deaths\n",
    "d2['iters'] = trainiters\n",
    "d2['rewardhist'] = rewardhist\n",
    "d2['mu'] = mu\n",
    "d2['testtime'] = testtime\n",
    "sio.savemat('hdim_5_trials.mat', d2)"
   ]
  },
  {
   "cell_type": "code",
   "execution_count": null,
   "metadata": {},
   "outputs": [],
   "source": []
  },
  {
   "cell_type": "code",
   "execution_count": 18,
   "metadata": {
    "scrolled": true
   },
   "outputs": [
    {
     "name": "stdout",
     "output_type": "stream",
     "text": [
      "0\n",
      "100\n",
      "200\n",
      "300\n",
      "400\n",
      "500\n",
      "600\n",
      "700\n",
      "800\n",
      "900\n",
      "1000\n",
      "1100\n",
      "1200\n",
      "1300\n",
      "1400\n",
      "1500\n",
      "1600\n",
      "1700\n",
      "1800\n",
      "1900\n",
      "2000\n",
      "2100\n",
      "2200\n",
      "2300\n",
      "2400\n",
      "2500\n",
      "2600\n",
      "2700\n",
      "2800\n",
      "2900\n",
      "3000\n",
      "3100\n",
      "3200\n",
      "3300\n",
      "3400\n",
      "3500\n",
      "3600\n",
      "3700\n",
      "3800\n",
      "3900\n",
      "4000\n",
      "4100\n",
      "4200\n",
      "4300\n",
      "4400\n",
      "4500\n",
      "4600\n",
      "4700\n",
      "4800\n",
      "4900\n",
      "5000\n",
      "5100\n",
      "5200\n",
      "5300\n",
      "5400\n",
      "5500\n",
      "5600\n",
      "5700\n",
      "5800\n",
      "5900\n",
      "6000\n",
      "6100\n",
      "6200\n",
      "6300\n",
      "6400\n",
      "6500\n",
      "6600\n",
      "6700\n",
      "6800\n",
      "6900\n",
      "7000\n",
      "7100\n",
      "7200\n",
      "7300\n",
      "7400\n",
      "7500\n",
      "7600\n",
      "7700\n",
      "7800\n",
      "7900\n",
      "8000\n",
      "8100\n",
      "8200\n",
      "8300\n",
      "8400\n",
      "8500\n",
      "8600\n",
      "8700\n",
      "8800\n",
      "8900\n",
      "9000\n",
      "9100\n",
      "9200\n",
      "9300\n",
      "9400\n",
      "9500\n",
      "9600\n",
      "9700\n",
      "9800\n",
      "9900\n"
     ]
    }
   ],
   "source": [
    "numTrials = 10000\n",
    "\n",
    "t0 = time.time()\n",
    "baseline = -15\n",
    "\n",
    "acthist = np.zeros((numTrials, 11))\n",
    "rewardhist = np.zeros(numTrials)\n",
    "for trial in range(numTrials):\n",
    "    if trial % 100 == 0:\n",
    "        print(trial)\n",
    "    act = np.random.randn(11)\n",
    "    act /= np.linalg.norm(act)\n",
    "    reward = -env.trialEnv(act, Ninf_train, N_train, T_train, lam0_train)\n",
    "    rewardhist[trial] = reward\n",
    "    \n",
    "    acthist[trial] = act\n",
    "    \n",
    "traintime = time.time() - t0\n",
    "trainiters = trial"
   ]
  },
  {
   "cell_type": "code",
   "execution_count": 19,
   "metadata": {},
   "outputs": [],
   "source": [
    "from sklearn.linear_model import LinearRegression as LR"
   ]
  },
  {
   "cell_type": "code",
   "execution_count": 20,
   "metadata": {},
   "outputs": [],
   "source": [
    "lr = LR()"
   ]
  },
  {
   "cell_type": "code",
   "execution_count": 22,
   "metadata": {},
   "outputs": [
    {
     "data": {
      "text/plain": [
       "LinearRegression(copy_X=True, fit_intercept=True, n_jobs=None, normalize=False)"
      ]
     },
     "execution_count": 22,
     "metadata": {},
     "output_type": "execute_result"
    }
   ],
   "source": [
    "lr.fit(acthist, rewardhist)"
   ]
  },
  {
   "cell_type": "code",
   "execution_count": 23,
   "metadata": {},
   "outputs": [],
   "source": [
    "a = lr.coef_ / np.linalg.norm(lr.coef_)"
   ]
  },
  {
   "cell_type": "code",
   "execution_count": 24,
   "metadata": {},
   "outputs": [
    {
     "data": {
      "text/plain": [
       "[]"
      ]
     },
     "execution_count": 24,
     "metadata": {},
     "output_type": "execute_result"
    },
    {
     "data": {
      "image/png": "[encoded data removed]",
      "text/plain": [
       "<Figure size 432x288 with 1 Axes>"
      ]
     },
     "metadata": {
      "needs_background": "light"
     },
     "output_type": "display_data"
    }
   ],
   "source": [
    "plt.plot(a)\n",
    "plt.grid()\n",
    "plt.xticks(np.arange(11), variables, rotation=-90)\n",
    "plt.plot()"
   ]
  },
  {
   "cell_type": "code",
   "execution_count": 25,
   "metadata": {},
   "outputs": [
    {
     "name": "stdout",
     "output_type": "stream",
     "text": [
      "0\n",
      "100\n",
      "200\n",
      "300\n",
      "400\n",
      "500\n",
      "600\n",
      "700\n",
      "800\n",
      "900\n",
      "2332.7164299488068\n",
      "134.213\n"
     ]
    }
   ],
   "source": [
    "numTrials = 1000\n",
    "deaths = np.zeros(numTrials)\n",
    "\n",
    "t0 = time.time()\n",
    "for trial in range(numTrials):\n",
    "    if trial % 100 == 0:\n",
    "        print(trial)\n",
    "    deaths[trial] = env.trialEnv(a, Ninf_test, N_test, T_test, lam0_test)\n",
    "testtime = time.time() - t0\n",
    "print(testtime)\n",
    "print(np.mean(deaths))"
   ]
  },
  {
   "cell_type": "code",
   "execution_count": 26,
   "metadata": {},
   "outputs": [],
   "source": [
    "d3 = {}\n",
    "d3['traintime'] = traintime\n",
    "d3['iters'] = trainiters\n",
    "d3['acthist'] = acthist\n",
    "d3['rewardhist'] = rewardhist\n",
    "d3['deaths'] = deaths\n",
    "d3['a'] = a\n",
    "d3['testtime'] = testtime\n",
    "sio.savemat('least_squares.mat', d3)"
   ]
  },
  {
   "cell_type": "code",
   "execution_count": null,
   "metadata": {},
   "outputs": [],
   "source": []
  },
  {
   "cell_type": "code",
   "execution_count": 27,
   "metadata": {},
   "outputs": [
    {
     "name": "stdout",
     "output_type": "stream",
     "text": [
      "0\n",
      "100\n",
      "200\n",
      "300\n",
      "400\n",
      "500\n",
      "600\n",
      "700\n",
      "800\n",
      "900\n",
      "2134.0087761878967\n",
      "211.397\n"
     ]
    }
   ],
   "source": [
    "numTrials = 1000\n",
    "deaths = np.zeros(numTrials)\n",
    "\n",
    "t0 = time.time()\n",
    "for trial in range(numTrials):\n",
    "    if trial % 100 == 0:\n",
    "        print(trial)\n",
    "    deaths[trial] = env.trialEnv(None, Ninf_test, N_test, T_test, lam0_test)\n",
    "testtime = time.time() - t0\n",
    "print(testtime)\n",
    "print(np.mean(deaths))"
   ]
  },
  {
   "cell_type": "code",
   "execution_count": 28,
   "metadata": {},
   "outputs": [],
   "source": [
    "d = {}\n",
    "d['deaths'] = deaths\n",
    "sio.savemat('randomvacc.mat', d)"
   ]
  },
  {
   "cell_type": "code",
   "execution_count": null,
   "metadata": {},
   "outputs": [],
   "source": []
  },
  {
   "cell_type": "code",
   "execution_count": 29,
   "metadata": {
    "scrolled": true
   },
   "outputs": [
    {
     "name": "stdout",
     "output_type": "stream",
     "text": [
      "0\n",
      "100\n",
      "200\n",
      "300\n",
      "400\n",
      "500\n",
      "600\n",
      "700\n",
      "800\n",
      "900\n",
      "2030.635308265686\n",
      "259.596\n"
     ]
    }
   ],
   "source": [
    "numTrials = 1000\n",
    "deaths = np.zeros(numTrials)\n",
    "\n",
    "t0 = time.time()\n",
    "for trial in range(numTrials):\n",
    "    if trial % 100 == 0:\n",
    "        print(trial)\n",
    "    deaths[trial] = env.trialEnv(None, Ninf_test, N_test, T_test, lam0_test, usevac=False)\n",
    "testtime = time.time() - t0\n",
    "print(testtime)\n",
    "print(np.mean(deaths))"
   ]
  },
  {
   "cell_type": "code",
   "execution_count": 30,
   "metadata": {},
   "outputs": [],
   "source": [
    "d = {}\n",
    "d['deaths'] = deaths\n",
    "sio.savemat('novacc.mat', d)"
   ]
  },
  {
   "cell_type": "code",
   "execution_count": null,
   "metadata": {},
   "outputs": [],
   "source": []
  },
  {
   "cell_type": "code",
   "execution_count": 31,
   "metadata": {},
   "outputs": [
    {
     "name": "stdout",
     "output_type": "stream",
     "text": [
      "0\n",
      "100\n",
      "200\n",
      "300\n",
      "400\n",
      "500\n",
      "600\n",
      "700\n",
      "800\n",
      "900\n",
      "2142.495379924774\n",
      "211.778\n"
     ]
    }
   ],
   "source": [
    "numTrials = 1000\n",
    "deaths = np.zeros(numTrials)\n",
    "\n",
    "t0 = time.time()\n",
    "for trial in range(numTrials):\n",
    "    if trial % 100 == 0:\n",
    "        print(trial)\n",
    "    deaths[trial] = env.trialEnv(None, Ninf_test, N_test, T_test, lam0_test)\n",
    "testtime = time.time() - t0\n",
    "print(testtime)\n",
    "print(np.mean(deaths))"
   ]
  },
  {
   "cell_type": "code",
   "execution_count": 32,
   "metadata": {},
   "outputs": [],
   "source": [
    "d4 = {}\n",
    "d4['deaths'] = deaths\n",
    "sio.savemat('randomvacc.mat', d4)"
   ]
  },
  {
   "cell_type": "code",
   "execution_count": null,
   "metadata": {},
   "outputs": [],
   "source": []
  },
  {
   "cell_type": "code",
   "execution_count": 17,
   "metadata": {},
   "outputs": [],
   "source": [
    "mu = np.zeros(11)\n",
    "sig = np.eye(11)\n",
    "precision = np.eye(11)"
   ]
  },
  {
   "cell_type": "code",
   "execution_count": 18,
   "metadata": {
    "scrolled": true
   },
   "outputs": [
    {
     "name": "stdout",
     "output_type": "stream",
     "text": [
      "0\n",
      "100\n",
      "200\n",
      "300\n",
      "400\n",
      "500\n",
      "600\n",
      "700\n",
      "800\n",
      "900\n",
      "1000\n",
      "1100\n",
      "1200\n",
      "1300\n",
      "1400\n",
      "1500\n",
      "1600\n",
      "1700\n",
      "1800\n",
      "1900\n",
      "2000\n",
      "2100\n",
      "2200\n",
      "2300\n",
      "2400\n",
      "2500\n",
      "2600\n",
      "2700\n",
      "2800\n",
      "2900\n",
      "3000\n",
      "3100\n",
      "3200\n",
      "3300\n",
      "3400\n",
      "3500\n",
      "3600\n",
      "3700\n",
      "3800\n",
      "3900\n",
      "4000\n",
      "4100\n",
      "4200\n",
      "4300\n",
      "4400\n",
      "4500\n",
      "4600\n",
      "4700\n",
      "4800\n",
      "4900\n",
      "5000\n",
      "5100\n",
      "5200\n",
      "5300\n",
      "5400\n",
      "5500\n",
      "5600\n",
      "5700\n",
      "5800\n",
      "5900\n",
      "6000\n",
      "6100\n",
      "6200\n",
      "6300\n",
      "6400\n",
      "6500\n",
      "6600\n",
      "6700\n",
      "6800\n",
      "6900\n",
      "7000\n",
      "7100\n",
      "7200\n",
      "7300\n",
      "7400\n",
      "7500\n",
      "7600\n",
      "7700\n",
      "7800\n",
      "7900\n",
      "8000\n",
      "8100\n",
      "8200\n",
      "8300\n",
      "8400\n",
      "8500\n",
      "8600\n",
      "8700\n",
      "8800\n",
      "8900\n",
      "9000\n",
      "9100\n",
      "9200\n",
      "9300\n",
      "9400\n",
      "9500\n",
      "9600\n",
      "9700\n",
      "9800\n",
      "9900\n"
     ]
    }
   ],
   "source": [
    "numTrials = 10000\n",
    "\n",
    "t0 = time.time()\n",
    "baseline = -15\n",
    "eps = 0.3\n",
    "alpha = 0.001\n",
    "\n",
    "acthist = np.zeros((numTrials, 11))\n",
    "muhist = np.zeros((numTrials, 11))\n",
    "rewardhist = np.zeros(numTrials)\n",
    "sig = 0.1*np.eye(11)\n",
    "siginv = np.linalg.inv(sig)\n",
    "for trial in range(numTrials):\n",
    "    if trial % 100 == 0:\n",
    "        print(trial)\n",
    "    u = np.random.random()\n",
    "    if u < eps:\n",
    "        act = np.random.randn(11)\n",
    "        #act /= np.linalg.norm(act)\n",
    "    else:\n",
    "        act = np.random.multivariate_normal(mu, sig)\n",
    "        #act /= np.linalg.norm(act)\n",
    "    reward = -env.trialEnv(act, Ninf_train, N_train, T_train, lam0_train)\n",
    "    rewardhist[trial] = reward\n",
    "    \n",
    "    acthist[trial] = act\n",
    "    muhist[trial] = mu\n",
    "    \n",
    "    alpha = 1/(1000 + trial)\n",
    "    mu += alpha*(reward - baseline)*(act - mu)\n",
    "    amu = (act - mu).reshape((-1, 1))\n",
    "traintime = time.time() - t0\n",
    "trainiters = trial"
   ]
  },
  {
   "cell_type": "code",
   "execution_count": null,
   "metadata": {},
   "outputs": [],
   "source": [
    "muhist[trial]"
   ]
  },
  {
   "cell_type": "code",
   "execution_count": 19,
   "metadata": {},
   "outputs": [
    {
     "data": {
      "image/png": "[encoded data removed]",
      "text/plain": [
       "<Figure size 432x288 with 1 Axes>"
      ]
     },
     "metadata": {
      "needs_background": "light"
     },
     "output_type": "display_data"
    }
   ],
   "source": [
    "mu = muhist[trial]\n",
    "plt.plot(mu / np.linalg.norm(mu))\n",
    "plt.xticks(np.arange(11), variables, rotation=-90)\n",
    "plt.grid()"
   ]
  },
  {
   "cell_type": "code",
   "execution_count": 20,
   "metadata": {},
   "outputs": [
    {
     "name": "stdout",
     "output_type": "stream",
     "text": [
      "0\n",
      "100\n",
      "200\n",
      "300\n",
      "400\n",
      "500\n",
      "600\n",
      "700\n",
      "800\n",
      "900\n",
      "2416.6292095184326\n",
      "137.175\n"
     ]
    }
   ],
   "source": [
    "numTrials = 1000\n",
    "deaths = np.zeros(numTrials)\n",
    "\n",
    "t0 = time.time()\n",
    "for trial in range(numTrials):\n",
    "    if trial % 100 == 0:\n",
    "        print(trial)\n",
    "    deaths[trial] = env.trialEnv(mu, Ninf_test, N_test, T_test, lam0_test)\n",
    "testtime = time.time() - t0\n",
    "print(testtime)\n",
    "print(np.mean(deaths))"
   ]
  },
  {
   "cell_type": "code",
   "execution_count": 21,
   "metadata": {},
   "outputs": [],
   "source": [
    "d5 = {}\n",
    "d5['acthist'] = acthist\n",
    "d5['muhist'] = muhist\n",
    "d5['traintime'] = traintime\n",
    "d5['deaths'] = deaths\n",
    "d5['iters'] = trainiters\n",
    "d5['rewardhist'] = rewardhist\n",
    "d5['mu'] = mu\n",
    "d5['testtime'] = testtime\n",
    "sio.savemat('trials_linear_fixedsig2.mat', d5)"
   ]
  },
  {
   "cell_type": "code",
   "execution_count": null,
   "metadata": {},
   "outputs": [],
   "source": []
  },
  {
   "cell_type": "code",
   "execution_count": 13,
   "metadata": {},
   "outputs": [],
   "source": [
    "hdims = [5]"
   ]
  },
  {
   "cell_type": "code",
   "execution_count": 14,
   "metadata": {},
   "outputs": [
    {
     "name": "stdout",
     "output_type": "stream",
     "text": [
      "66\n"
     ]
    }
   ],
   "source": [
    "model = multiLayer(11, hdims, 1)\n",
    "dim = model.paramlength\n",
    "print(dim)\n",
    "mu = np.zeros(dim)\n",
    "sig = np.eye(dim)\n",
    "precision = np.eye(dim)"
   ]
  },
  {
   "cell_type": "code",
   "execution_count": 15,
   "metadata": {},
   "outputs": [
    {
     "name": "stdout",
     "output_type": "stream",
     "text": [
      "0\n",
      "100\n",
      "200\n",
      "300\n",
      "400\n",
      "500\n",
      "600\n",
      "700\n",
      "800\n",
      "900\n",
      "1000\n",
      "1100\n",
      "1200\n",
      "1300\n",
      "1400\n",
      "1500\n",
      "1600\n",
      "1700\n",
      "1800\n",
      "1900\n",
      "2000\n",
      "2100\n",
      "2200\n",
      "2300\n",
      "2400\n",
      "2500\n",
      "2600\n",
      "2700\n",
      "2800\n",
      "2900\n",
      "3000\n",
      "3100\n",
      "3200\n",
      "3300\n",
      "3400\n",
      "3500\n",
      "3600\n",
      "3700\n",
      "3800\n",
      "3900\n",
      "4000\n",
      "4100\n",
      "4200\n",
      "4300\n",
      "4400\n",
      "4500\n",
      "4600\n",
      "4700\n",
      "4800\n",
      "4900\n",
      "5000\n",
      "5100\n",
      "5200\n",
      "5300\n",
      "5400\n",
      "5500\n",
      "5600\n",
      "5700\n",
      "5800\n",
      "5900\n",
      "6000\n",
      "6100\n",
      "6200\n",
      "6300\n",
      "6400\n",
      "6500\n",
      "6600\n",
      "6700\n",
      "6800\n",
      "6900\n",
      "7000\n",
      "7100\n",
      "7200\n",
      "7300\n",
      "7400\n",
      "7500\n",
      "7600\n",
      "7700\n",
      "7800\n",
      "7900\n",
      "8000\n",
      "8100\n",
      "8200\n",
      "8300\n",
      "8400\n",
      "8500\n",
      "8600\n",
      "8700\n",
      "8800\n",
      "8900\n",
      "9000\n",
      "9100\n",
      "9200\n",
      "9300\n",
      "9400\n",
      "9500\n",
      "9600\n",
      "9700\n",
      "9800\n",
      "9900\n"
     ]
    }
   ],
   "source": [
    "numTrials = 10000\n",
    "\n",
    "t0 = time.time()\n",
    "baseline = -15\n",
    "eps = 0.3\n",
    "alpha = 0.001\n",
    "\n",
    "acthist = np.zeros((numTrials, dim))\n",
    "muhist = np.zeros((numTrials, dim))\n",
    "rewardhist = np.zeros((numTrials))\n",
    "\n",
    "sig = 0.1*np.eye(dim)\n",
    "siginv = np.linalg.inv(sig)\n",
    "\n",
    "for trial in range(numTrials):\n",
    "    if trial % 100 == 0:\n",
    "        print(trial)\n",
    "    #eps = 10/(10+trial)\n",
    "    u = np.random.random()\n",
    "    if u < eps:\n",
    "        act = np.random.randn(dim)\n",
    "    else:\n",
    "        act = np.random.multivariate_normal(mu, sig)\n",
    "    model = multiLayer(11, hdims, 1)\n",
    "    model.setparams(act)\n",
    "    reward = -env.trialEnv(model, Ninf_train, N_train, T_train, lam0_train)\n",
    "    rewardhist[trial] = reward\n",
    "    \n",
    "    acthist[trial] = act\n",
    "    muhist[trial] = mu\n",
    "    #print(sigdet)\n",
    "    \n",
    "    alpha = 1/(1000 + trial)\n",
    "    mu += alpha*(reward - baseline)*(act - mu)\n",
    "traintime = time.time() - t0\n",
    "trainiters = trial"
   ]
  },
  {
   "cell_type": "code",
   "execution_count": 16,
   "metadata": {},
   "outputs": [
    {
     "name": "stdout",
     "output_type": "stream",
     "text": [
      "[ 3.0056607  -1.6790594  -0.93482616  2.29251957 -4.49664161 -0.70300698\n",
      "  2.28224622  1.86484291 -7.76612283 -0.51941136 -4.83530908  1.43314509\n",
      " -1.08649377 -7.42598411  1.19923538 -3.03147338 -4.827699    1.16025168\n",
      " -1.88861846 -1.92452954 -4.40237416  0.49423051  0.43725488 -2.49520898\n",
      " -3.41502454 -1.61374612  1.04514515  1.84060791  7.62283453 -7.94984035\n",
      " -6.20402826  5.59730884  4.56440561 -4.28498559  3.50396155  7.78749132\n",
      " -0.69696578 -8.52216878 -1.94607942  5.32476109 -3.6386774   5.58245472\n",
      "  2.63331176 -2.52658777  4.35678642 -4.10136758 -2.73177316 -5.85254552\n",
      " -3.14308998 -3.06193371  5.65867926 -3.55211676  1.58225724 -0.29158866\n",
      " -9.1118297   9.52052303  0.63625482  3.54377737 10.23859103  4.93296712\n",
      " -2.25910064  7.73483578  5.66088994  0.40510323  0.5606841   3.265942  ]\n"
     ]
    }
   ],
   "source": [
    "model = multiLayer(11, hdims, 1)\n",
    "mu = muhist[trial]\n",
    "model.setparams(mu)\n",
    "print(muhist[trial])"
   ]
  },
  {
   "cell_type": "code",
   "execution_count": 17,
   "metadata": {},
   "outputs": [
    {
     "name": "stdout",
     "output_type": "stream",
     "text": [
      "0\n",
      "100\n",
      "200\n",
      "300\n",
      "400\n",
      "500\n",
      "600\n",
      "700\n",
      "800\n",
      "900\n",
      "3259.066739797592\n",
      "156.569\n"
     ]
    }
   ],
   "source": [
    "numTrials = 1000\n",
    "deaths = np.zeros(numTrials)\n",
    "\n",
    "t0 = time.time()\n",
    "for trial in range(numTrials):\n",
    "    if trial % 100 == 0:\n",
    "        print(trial)\n",
    "    deaths[trial] = env.trialEnv(model, Ninf_test, N_test, T_test, lam0_test)\n",
    "testtime = time.time() - t0\n",
    "print(testtime)\n",
    "print(np.mean(deaths))"
   ]
  },
  {
   "cell_type": "code",
   "execution_count": 18,
   "metadata": {},
   "outputs": [],
   "source": [
    "d6 = {}\n",
    "d6['acthist'] = acthist\n",
    "d6['muhist'] = muhist\n",
    "d6['traintime'] = traintime\n",
    "d6['deaths'] = deaths\n",
    "d6['iters'] = trainiters\n",
    "d6['rewardhist'] = rewardhist\n",
    "d6['mu'] = mu\n",
    "d6['testtime'] = testtime\n",
    "sio.savemat('hdim_5_trials_fixedsig.mat', d6)"
   ]
  },
  {
   "cell_type": "code",
   "execution_count": 19,
   "metadata": {},
   "outputs": [
    {
     "data": {
      "text/plain": [
       "58.63776959180832"
      ]
     },
     "execution_count": 19,
     "metadata": {},
     "output_type": "execute_result"
    }
   ],
   "source": [
    "traintime / 60"
   ]
  },
  {
   "cell_type": "code",
   "execution_count": null,
   "metadata": {},
   "outputs": [],
   "source": []
  }
 ],
 "metadata": {
  "kernelspec": {
   "display_name": "Python 3",
   "language": "python",
   "name": "python3"
  },
  "language_info": {
   "codemirror_mode": {
    "name": "ipython",
    "version": 3
   },
   "file_extension": ".py",
   "mimetype": "text/x-python",
   "name": "python",
   "nbconvert_exporter": "python",
   "pygments_lexer": "ipython3",
   "version": "3.7.4"
  }
 },
 "nbformat": 4,
 "nbformat_minor": 4
}
